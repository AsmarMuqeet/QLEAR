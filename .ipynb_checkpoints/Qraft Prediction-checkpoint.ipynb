{
 "cells": [
  {
   "cell_type": "code",
   "execution_count": 1,
   "id": "2279a058",
   "metadata": {},
   "outputs": [
    {
     "data": {
      "text/plain": [
       "[<IBMBackend('ibm_lagos')>,\n",
       " <IBMBackend('ibm_nairobi')>,\n",
       " <IBMBackend('ibm_perth')>,\n",
       " <IBMBackend('ibmq_belem')>,\n",
       " <IBMBackend('ibmq_jakarta')>,\n",
       " <IBMBackend('ibmq_lima')>,\n",
       " <IBMBackend('ibmq_manila')>,\n",
       " <IBMBackend('ibmq_quito')>]"
      ]
     },
     "execution_count": 1,
     "metadata": {},
     "output_type": "execute_result"
    }
   ],
   "source": [
    "import pandas as pd\n",
    "import numpy as np\n",
    "import os\n",
    "import glob\n",
    "import pickle\n",
    "import math\n",
    "import matlab\n",
    "import matlab.engine\n",
    "from tqdm import *\n",
    "from qiskit_ibm_provider import IBMProvider\n",
    "with open(\"API_KEY.txt\",\"r\") as file:\n",
    "    key = file.read()\n",
    "provider = IBMProvider(token=key)\n",
    "def filters(x):\n",
    "    if \"simulator\" not in x.name:\n",
    "        return x\n",
    "backends = provider.backends(filters=filters)\n",
    "backends = sorted(backends,key=lambda x: x.name)\n",
    "backends"
   ]
  },
  {
   "cell_type": "code",
   "execution_count": 6,
   "id": "0c9f609e",
   "metadata": {},
   "outputs": [],
   "source": [
    "def read_program_qraft(program_name,backend):\n",
    "    all_files = glob.glob(os.path.join(\"./real_circuits_qraft/\", \"*.csv\"))\n",
    "    for file in all_files:\n",
    "        if program_name in file and backend.name in file:\n",
    "            df = pd.read_csv(file)\n",
    "            return df\n",
    "        \n",
    "def read_program_qraft_hardware(program_name,backend):\n",
    "    all_files = glob.glob(os.path.join(\"./real_circuits_hardware_qraft/\", \"*.csv\"))\n",
    "    for file in all_files:\n",
    "        if program_name in file and backend.name in file:\n",
    "            df = pd.read_csv(file)\n",
    "            return df\n",
    "        \n",
    "def get_program_dict():\n",
    "    program = {}\n",
    "    for file in os.listdir(\"./real_circuits\"):\n",
    "        name = file.split(\"_\")[0]\n",
    "        program[name] = {\"name\":name,\"sqraft\":0,\"hqraft\":0}\n",
    "    return program\n",
    "\n",
    "def HellingerDistance(p, q, qraft=False):\n",
    "    p = p/100\n",
    "    q = q/100\n",
    "    if not qraft:\n",
    "        p[p<=0] = 0\n",
    "        q[q<=0] = 0\n",
    "        if q.sum()>1:\n",
    "            q[q>0] = q[q>0]-((q.sum()-p.sum())/(len(q)-len(q[q==0])))\n",
    "            q[q<0] = 0\n",
    "    \n",
    "    n = len(p)\n",
    "    sum_ = 0.0\n",
    "    for i in range(n):\n",
    "        sum_ += (np.sqrt(p[i]) - np.sqrt(q[i]))**2\n",
    "    result = (1.0 / np.sqrt(2.0)) * np.sqrt(sum_)\n",
    "    return result"
   ]
  },
  {
   "cell_type": "code",
   "execution_count": 3,
   "id": "0976ead6",
   "metadata": {},
   "outputs": [],
   "source": [
    "# load models\n",
    "eng = matlab.engine.start_matlab()"
   ]
  },
  {
   "cell_type": "code",
   "execution_count": 7,
   "id": "6e8fc79a",
   "metadata": {
    "scrolled": true
   },
   "outputs": [
    {
     "name": "stderr",
     "output_type": "stream",
     "text": [
      "100%|████████████████████████████████████████████████████████████████████████████████████| 8/8 [03:31<00:00, 26.39s/it]\n"
     ]
    }
   ],
   "source": [
    "backend_dict = {}\n",
    "for backend in tqdm(backends):\n",
    "    \n",
    "    RealPrograms = get_program_dict()\n",
    "    \n",
    "    for program in RealPrograms.keys():\n",
    "\n",
    "        Qraft_data = read_program_qraft(RealPrograms[program]['name'],backend)\n",
    "        \n",
    "        Qraft_data = Qraft_data[['CircuitWidth','CircuitDepth','CircuitNumU1Gates',\n",
    "                                 'CircuitNumU2Gates','CircuitNumU3Gates','CircuitNumCXGates',\n",
    "                                 'TotalUpDnErr25','TotalUpDnErr50','TotalUpDnErr75','StateHammingWeight',\n",
    "                                 'StateUpProb25','StateUpProb50','StateUpProb75','StateUpDnErr25',\n",
    "                                 'StateUpDnErr50','StateUpDnErr75','StateRealProb']].copy()\n",
    "        \n",
    "\n",
    "        mat = matlab.double(Qraft_data.values.tolist())\n",
    "        pred = eng.prediction(mat)\n",
    "        qraft_predictions = [x[0] for x in pred]       \n",
    "        RealPrograms[program][\"qraft\"] = np.round(HellingerDistance(Qraft_data[\"StateRealProb\"].values,np.array(qraft_predictions),qraft=True),2)\n",
    "\n",
    "\n",
    "    backend_dict[backend.name] = RealPrograms"
   ]
  },
  {
   "cell_type": "code",
   "execution_count": 11,
   "id": "0cc58568",
   "metadata": {},
   "outputs": [],
   "source": [
    "with open(\"QRAFT.pkl\",\"wb\") as file:\n",
    "    pickle.dump(backend_dict,file)"
   ]
  },
  {
   "cell_type": "code",
   "execution_count": null,
   "id": "a009a8c9",
   "metadata": {},
   "outputs": [],
   "source": []
  }
 ],
 "metadata": {
  "kernelspec": {
   "display_name": "Python 3 (ipykernel)",
   "language": "python",
   "name": "python3"
  },
  "language_info": {
   "codemirror_mode": {
    "name": "ipython",
    "version": 3
   },
   "file_extension": ".py",
   "mimetype": "text/x-python",
   "name": "python",
   "nbconvert_exporter": "python",
   "pygments_lexer": "ipython3",
   "version": "3.10.11"
  }
 },
 "nbformat": 4,
 "nbformat_minor": 5
}
